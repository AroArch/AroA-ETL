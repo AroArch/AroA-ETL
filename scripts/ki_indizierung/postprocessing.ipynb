{
 "cells": [
  {
   "cell_type": "markdown",
   "id": "6fad1961-1684-4987-8813-01e9b1e35a80",
   "metadata": {},
   "source": [
    "# postprocess results"
   ]
  },
  {
   "cell_type": "code",
   "execution_count": null,
   "id": "b2cb3fe9-fbef-4c63-a58e-262310148189",
   "metadata": {},
   "outputs": [],
   "source": [
    "data = []\n",
    "for r in responses:\n",
    "    if \"data\" in r and isinstance(r[\"data\"],pd.core.frame.DataFrame):\n",
    "        if \"docid\" not in r[\"data\"].columns:\n",
    "            r[\"data\"].columns = [\"first name\", \"last name\", \"date of birth\"]\n",
    "            r[\"data\"][\"docid\"] = r[\"image\"]\n",
    "        data.append(r[\"data\"])\n",
    "data = pd.concat(data,axis=0, ignore_index=True)\n",
    "data.columns = [\"strGname\", \"strLname\", \"DateOfBirth\",\"docid\"]"
   ]
  },
  {
   "cell_type": "code",
   "execution_count": null,
   "id": "48419da7-dfae-4923-859c-89261f62fce9",
   "metadata": {},
   "outputs": [],
   "source": [
    "data[\"docid\"] = data[\"docid\"].apply(lambda name: name.replace(\".jpg\",\"\").split(\"/\")[-1])"
   ]
  },
  {
   "cell_type": "code",
   "execution_count": null,
   "id": "3d96ace0-678d-4827-a53e-cd4eb7446458",
   "metadata": {},
   "outputs": [],
   "source": [
    "with open(f\"transcriptions/transcriptions_data.pkl\", \"wb\") as file:\n",
    "    pickle.dump(data, file)"
   ]
  },
  {
   "cell_type": "code",
   "execution_count": null,
   "id": "734d29d6-ac5a-46db-a2af-798bfa045c43",
   "metadata": {},
   "outputs": [],
   "source": [
    "with open(f\"transcriptions/transcriptions_data.pkl\", \"rb\") as file:\n",
    "    data = pickle.load(file)"
   ]
  },
  {
   "cell_type": "code",
   "execution_count": null,
   "id": "71cc9c05-f461-496d-aae6-3f80908bc44c",
   "metadata": {},
   "outputs": [],
   "source": [
    "# dump results\n",
    "#with open(\"transcriptions.pkl\", \"wb\") as file:\n",
    "#    pickle.dump(responses, file)"
   ]
  },
  {
   "cell_type": "markdown",
   "id": "8a83910f-54ab-4ff6-9282-18b297cba312",
   "metadata": {},
   "source": [
    "## Match"
   ]
  },
  {
   "cell_type": "code",
   "execution_count": null,
   "id": "880965c5-714c-4048-981c-a7bc1c87d291",
   "metadata": {},
   "outputs": [],
   "source": [
    "from aroa_etl.attribute_processing.string_utils import preprocess_name, preprocess_last_name\n",
    "from collections import defaultdict\n",
    "from tqdm import tqdm"
   ]
  },
  {
   "cell_type": "code",
   "execution_count": null,
   "id": "f5b7b5a2-eaec-4da3-9ec6-5701fdfad888",
   "metadata": {},
   "outputs": [],
   "source": [
    "transcription = data"
   ]
  },
  {
   "cell_type": "code",
   "execution_count": null,
   "id": "93629d35-056b-4fa1-9187-ab08962fafee",
   "metadata": {},
   "outputs": [],
   "source": [
    "transcription[\"strLName_processed\"] = transcription[\"strLname\"].fillna(\"\").apply(preprocess_last_name)\n",
    "transcription[\"strGName_processed\"] = transcription[\"strGname\"].fillna(\"\").apply(preprocess_name)\n",
    "transcription[\"DateOfBirth\"] = transcription[\"DateOfBirth\"].str.replace(r'^[^\\d]*$', '00000000', regex=True)\n",
    "transcription[\"strDoB_processed\"] = transcription[\"DateOfBirth\"].fillna('00000000')\n",
    "transcription[\"strDoB_processed\"] = transcription[\"strDoB_processed\"].apply(lambda d: f\"{d[6:8]}.{d[4:6]}.{d[0:4]}\" if re.match(r\"^\\d\\d\\d\\d\\d\\d\\d\\d$\", d) else d)\n",
    "transcription = transcription.drop_duplicates()"
   ]
  },
  {
   "cell_type": "code",
   "execution_count": null,
   "id": "4bf73c97-1187-45c6-8c57-ebd95b7f426f",
   "metadata": {},
   "outputs": [],
   "source": [
    "transcription.to_pickle(\"transcriptions/transcriptions_processed.pkl\")"
   ]
  },
  {
   "cell_type": "code",
   "execution_count": null,
   "id": "131ea7c0-51e0-45a8-ad31-0db2f62a751f",
   "metadata": {},
   "outputs": [],
   "source": [
    "table_name = \"\"\n",
    "known_names = pd.read_excel(table_name)"
   ]
  },
  {
   "cell_type": "code",
   "execution_count": null,
   "id": "90d54570-2868-42ce-8ff4-4ac4991193da",
   "metadata": {},
   "outputs": [],
   "source": [
    "known_names[\"strDoB_processed\"] = known_names[\"Birth Date Txt\"].fillna(\"00000000\").astype(str).fillna(\"00000000\")\n",
    "known_names[\"strLName_processed\"] = known_names[\"Family Name\"].fillna(\"\").astype(str).apply(preprocess_last_name)\n",
    "known_names[\"strGName_processed\"] = known_names[\"First Name\"].fillna(\"\").astype(str).apply(preprocess_name)"
   ]
  },
  {
   "cell_type": "code",
   "execution_count": null,
   "id": "ded68d37-cce5-47b6-a277-da828cb1023f",
   "metadata": {},
   "outputs": [],
   "source": [
    "from aroa_etl.person_matching.matching import person_matching"
   ]
  },
  {
   "cell_type": "code",
   "execution_count": null,
   "id": "a264202d-d11e-4f26-91fb-f98f80817f37",
   "metadata": {},
   "outputs": [],
   "source": [
    "import importlib\n",
    "import aroa_etl\n",
    "importlib.reload(aroa_etl.person_matching.similarity_measures)"
   ]
  },
  {
   "cell_type": "code",
   "execution_count": null,
   "id": "16005e57-9c08-4a4d-b0d0-fef9c2b36b8b",
   "metadata": {},
   "outputs": [],
   "source": [
    "known_names.columns"
   ]
  },
  {
   "cell_type": "code",
   "execution_count": null,
   "id": "955e9c7a-4bec-46a2-9e83-945f2d63c75e",
   "metadata": {},
   "outputs": [],
   "source": [
    "matchings_name_only_df = person_matching(transcription, known_names, \n",
    "                     src_gname_col=\"strGName_processed\", target_gname_col=\"strGName_processed\",\n",
    "                     src_lname_col=\"strLName_processed\", target_lname_col=\"strLName_processed\",\n",
    "                     src_date_col=\"strDoB_processed\", target_date_col=\"strDoB_processed\",\n",
    "                    trg_pre_clustering_on_n_chars=1, trg_pre_clustering_group_n_len_units=4,\n",
    "                    top_n_matches = 1, min_match_score=0.0, name_only=True)\n",
    "matchings_name_only_df.score.hist()"
   ]
  },
  {
   "cell_type": "code",
   "execution_count": null,
   "id": "f5bfc73c-655c-4783-931c-6b3c7edaa77c",
   "metadata": {},
   "outputs": [],
   "source": [
    "(matchings_name_only_df.score >= 80).sum() / matchings_name_only_df.shape[0]"
   ]
  },
  {
   "cell_type": "code",
   "execution_count": null,
   "id": "35be5656-03c4-4a02-a683-a96de4f430cc",
   "metadata": {},
   "outputs": [],
   "source": [
    "name_matched = matchings_name_only_df.set_index(\"srcID\").score >= 80.0"
   ]
  },
  {
   "cell_type": "code",
   "execution_count": null,
   "id": "7ef088d3-ac24-4cad-9472-7d2aee886a81",
   "metadata": {},
   "outputs": [],
   "source": [
    "matchings = person_matching(transcription, known_names,  \n",
    "                    src_gname_col=\"strGName_processed\", target_gname_col=\"strGName_processed\",\n",
    "                    src_lname_col=\"strLName_processed\", target_lname_col=\"strLName_processed\",\n",
    "                    src_date_col=\"strDoB_processed\", target_date_col=\"strDoB_processed\",\n",
    "                    trg_pre_clustering_on_n_chars=1, trg_pre_clustering_group_n_len_units=4,\n",
    "                    top_n_matches = 1, min_match_score=0.0)"
   ]
  },
  {
   "cell_type": "code",
   "execution_count": null,
   "id": "28e5256b-d799-4cc3-8399-50b7ee452ef5",
   "metadata": {},
   "outputs": [],
   "source": [
    "matchings_df = matchings #pd.DataFrame(matchings,columns=[\"srcID\",\"score\",\"trgID\"])"
   ]
  },
  {
   "cell_type": "code",
   "execution_count": null,
   "id": "fcaa01fc-b4c3-4d08-9b2d-97436a189f34",
   "metadata": {},
   "outputs": [],
   "source": [
    "(matchings_df.score >= 80).sum() / matchings_df.shape[0]"
   ]
  },
  {
   "cell_type": "code",
   "execution_count": null,
   "id": "991ef8de-8c0e-4c42-a40c-6363fc7eaec1",
   "metadata": {},
   "outputs": [],
   "source": [
    "matchings_df.to_pickle(\"transcriptions/matchings_df.pkl\")"
   ]
  },
  {
   "cell_type": "code",
   "execution_count": null,
   "id": "f27ea523-20f0-490c-86e9-b48e5c41b2e0",
   "metadata": {},
   "outputs": [],
   "source": [
    "matchings_df = pd.read_pickle(\"transcriptions/matchings_df.pkl\")\n",
    "transcription = pd.read_pickle(\"transcriptions/transcriptions_processed.pkl\")"
   ]
  },
  {
   "cell_type": "code",
   "execution_count": null,
   "id": "651ae9d7-5201-4b55-aa9f-8b82610e9680",
   "metadata": {},
   "outputs": [],
   "source": [
    "matchings_df.score.hist()"
   ]
  },
  {
   "cell_type": "code",
   "execution_count": null,
   "id": "2875f0e8-5e82-4c69-bb65-fad033608eba",
   "metadata": {},
   "outputs": [],
   "source": [
    "# matched\n",
    "is_match = transcription_matched.score>=80\n",
    "transcription_matched[\"is_matched\"] = is_match\n",
    "transcription_matched['strGName_matched'] = transcription_matched['First Name_match']\n",
    "transcription_matched['strLName_matched'] = transcription_matched['Family Name_match']\n",
    "transcription_matched['strDoB_matched'] = transcription_matched['Birth Date Txt_match']\n",
    "transcription_matched.loc[~is_match,'First Name_match'] = transcription_matched.loc[~is_match,'strGname']\n",
    "transcription_matched.loc[~is_match,'Family Name_match'] = transcription_matched.loc[~is_match,'strLname']\n",
    "transcription_matched.loc[~is_match,'Birth Date Txt_match'] = transcription_matched.loc[~is_match,'DateOfBirth']\n",
    "transcription_matched.drop(\n",
    "    ['strGName_processed','strGName_processed_match',\n",
    "     'strLName_processed','strLName_processed_match',\n",
    "     'strDoB_processed','strDoB_processed_match'],inplace=True,axis=\"columns\")\n",
    "transcription_matched.columns = [re.sub(r\"_match$\",\"\",col) for col in transcription_matched.columns]"
   ]
  },
  {
   "cell_type": "code",
   "execution_count": null,
   "id": "160fab89-233b-4d50-9950-f6620000633a",
   "metadata": {},
   "outputs": [],
   "source": [
    "print(f\"merge matching indices\")\n",
    "transcription_matched = pd.merge(transcription, matchings_df, left_index=True, right_on='srcID')\n",
    "transcription_matched.to_pickle(\"transcriptions/transcriptions_matched.pkl\")\n",
    "#transcription_matched = \n",
    "transcription_matched[\"is_ambiguous\"] = False \n",
    "is_qa = transcription_matched[\"score\"] < 80\n",
    "transcription_matched.loc[is_qa, \"is_ambiguous\"] = True\n",
    "\n",
    "no_match = transcription_matched[\"score\"] < 60\n",
    "transcription_matched.loc[no_match, \"trgID\"] = None\n",
    "\n",
    "print(f\"merge matching data\")\n",
    "known_names.columns = [f\"{c}_match\" for c in known_names.columns]\n",
    "transcription_matched.trgID = transcription_matched.trgID.apply(lambda idx: int(idx) if pd.notna(idx) else idx)\n",
    "transcription_matched = pd.merge(transcription_matched,known_names, how=\"left\", left_on=\"trgID\",right_index=True,)\n",
    "transcription_matched.drop([\"srcID\",\"trgID\"],inplace=True, axis=\"columns\")\n",
    "\n",
    "transcription_matched = transcription_matched.fillna(\"\")\n",
    "# attach name matched column\n",
    "transcription_matched = pd.merge(transcription_matched,name_matched.to_frame().rename({\"score\": \"NameMatch\"},axis=1), how=\"left\",left_index=True,right_index=True,)\n",
    "print(f\"save results\")\n",
    "transcription_matched.to_pickle(\"transcriptions/transcription_matched.pkl\")\n",
    "transcription_matched.to_csv(\"transcriptions/transcription_matched.csv\")\n",
    "#transcription_matched.to_excel(\"transcription_matched.xls\")\n",
    "qa_ratio = transcription_matched[\"is_ambiguous\"].mean()\n",
    "\n",
    "print(f\"Not Matched Name+Date {qa_ratio}; Not Matched Name Only {transcription_matched.NameMatch.mean()}\")"
   ]
  },
  {
   "cell_type": "markdown",
   "id": "64178ca2-d97b-4799-a982-154a4fefcc39",
   "metadata": {},
   "source": [
    "# postprocess"
   ]
  },
  {
   "cell_type": "code",
   "execution_count": null,
   "id": "71d68655-5513-4f8d-973f-e801a6dacc89",
   "metadata": {},
   "outputs": [],
   "source": [
    "from itables import show\n",
    "import pandas as pd\n",
    "import re\n",
    "transcription_matched = pd.read_pickle(\"transcriptions/transcription_matched.pkl\").fillna(\"\")"
   ]
  },
  {
   "cell_type": "code",
   "execution_count": null,
   "id": "c863af70-f8be-4981-bd03-92f0dd500693",
   "metadata": {},
   "outputs": [],
   "source": [
    "from aroa_etl.attribute_processing.column_processing import normalize_last_name, normalize_first_name, normalise_prisoner_number, normalise_date"
   ]
  },
  {
   "cell_type": "code",
   "execution_count": null,
   "id": "6b2b370e-82eb-4db5-9693-9337d6f1444b",
   "metadata": {
    "scrolled": true
   },
   "outputs": [],
   "source": [
    "transcription_matched.rename(\n",
    "    {\n",
    "        \"First Name\":\"strGName\",\n",
    "        \"Family Name\":\"strLName\",\n",
    "        'Birth Date Txt': 'strDoB',\n",
    "        'Birth City': 'strPoB',\n",
    "        'Inmate: Prisoner ID':'prisoner_number',\n",
    "        'strGname': 'strGname_raw',\n",
    "        'strLname': 'strLname_raw',\n",
    "        'DateOfBirth': 'strDoB_raw'\n",
    "    }, inplace=True, axis=\"columns\"\n",
    ")"
   ]
  },
  {
   "cell_type": "code",
   "execution_count": null,
   "id": "c6556b02-9ee7-46af-bd51-c04a291a4b63",
   "metadata": {},
   "outputs": [],
   "source": [
    "show(transcription_matched)"
   ]
  },
  {
   "cell_type": "code",
   "execution_count": null,
   "id": "467e7c86-412d-4796-96db-6abc7a468f4c",
   "metadata": {},
   "outputs": [],
   "source": [
    "#transcription_matched = transcription_matched.astype(str)\n",
    "transcription_matched[\"strDoB\"] = transcription_matched[\"strDoB\"].apply(repair_date)\n",
    "transcription_matched[\"strGName\"] = transcription_matched[\"strGName\"].apply(remove_numbers_from_string)\n",
    "transcription_matched[\"strLName\"] = transcription_matched[\"strLName\"].apply(remove_numbers_from_string)\n",
    "date_df = normalise_date(transcription_matched,\"strDoB\",\"strDoB\",\"KI Indizierung\",[1855,1945])\n",
    "for c in date_df.columns:\n",
    "    transcription_matched[c] = date_df[c]\n",
    "fname_df = normalize_first_name(transcription_matched, \"strGName\", \"KI Indizierung\")\n",
    "for c in fname_df.columns:\n",
    "    transcription_matched[c] = fname_df[c]\n",
    "lname_df = normalize_last_name(transcription_matched, \"strLName\", \"KI Indizierung\")\n",
    "for c in lname_df.columns:\n",
    "    transcription_matched[c] = lname_df[c]\n",
    "transcription_matched.loc[transcription_matched['last_name_birth_name_extracted'].isna(),'last_name_birth_name_extracted'] =  transcription_matched.loc[transcription_matched['last_name_birth_name_extracted'].isna(),'Maiden Name']\n",
    "transcription_matched.drop(['Maiden Name'],axis=\"columns\",inplace=True)\n",
    "prisoner_df = normalise_prisoner_number(transcription_matched,\"prisoner_number\", \"KI Indizierung\")\n",
    "for c in prisoner_df.columns:\n",
    "    transcription_matched[c] = prisoner_df[c]\n",
    "transcription_matched = transcription_matched.fillna(\"\").astype(str)\n",
    "transcription_matched[\"prisoner_number_qa\"] = \"False\"\n",
    "source_cols = [col for col in transcription_matched.columns if \"source\" in col]\n",
    "for col in source_cols:\n",
    "    transcription_matched.loc[is_match,col] = \"Datenaquise Matching\""
   ]
  },
  {
   "cell_type": "code",
   "execution_count": null,
   "id": "7aee69ab-a572-4e22-b293-36eda2f139fb",
   "metadata": {},
   "outputs": [],
   "source": [
    "qa_cols = [c for c in transcription_matched.columns if \"_qa\" in c]\n",
    "transcription_matched[\"is_ambiguous\"] = False\n",
    "ambiguous_cols = [[] for i in range(transcription_matched.shape[0])]\n",
    "for qa_col in qa_cols:\n",
    "    transcription_matched[\"is_ambiguous\"] = transcription_matched[\"is_ambiguous\"] | (transcription_matched[qa_col] == True)\n",
    "    col_name = qa_col.replace(\"_qa\",\"\")\n",
    "    ambiguous_cols = map(lambda lists: [*lists[0],*lists[1]],\n",
    "                            zip(ambiguous_cols, \n",
    "                                list(transcription_matched[qa_col].apply(lambda b: [col_name] if b==\"True\" else [] ))))\n",
    "ambiguous_cols = [\", \".join(col_list) for col_list in ambiguous_cols]\n",
    "transcription_matched[\"ambiguous_columns\"] = ambiguous_cols"
   ]
  },
  {
   "cell_type": "code",
   "execution_count": null,
   "id": "597c2465-09d2-4702-97a8-9ce5b89cf5aa",
   "metadata": {
    "scrolled": true
   },
   "outputs": [],
   "source": [
    "show(transcription_matched)"
   ]
  },
  {
   "cell_type": "code",
   "execution_count": null,
   "id": "6e582ac3-1210-46fd-92e1-dc623bf790b8",
   "metadata": {},
   "outputs": [],
   "source": [
    "transcription_matched.to_excel(\"transcriptions/indizierung.xlsx\")\n",
    "transcription_matched.to_csv(\"transcriptions/indizierung.csv\",sep='|')"
   ]
  }
 ],
 "metadata": {
  "kernelspec": {
   "display_name": "Python 3 (ipykernel)",
   "language": "python",
   "name": "python3"
  },
  "language_info": {
   "codemirror_mode": {
    "name": "ipython",
    "version": 3
   },
   "file_extension": ".py",
   "mimetype": "text/x-python",
   "name": "python",
   "nbconvert_exporter": "python",
   "pygments_lexer": "ipython3",
   "version": "3.12.3"
  }
 },
 "nbformat": 4,
 "nbformat_minor": 5
}
