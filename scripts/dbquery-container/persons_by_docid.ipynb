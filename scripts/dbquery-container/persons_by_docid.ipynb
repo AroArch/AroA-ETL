{
 "cells": [
  {
   "cell_type": "code",
   "execution_count": null,
   "id": "eec2834c-aa24-449c-9874-5dc8ad30df12",
   "metadata": {},
   "outputs": [],
   "source": [
    "import os\n",
    "import sys\n",
    "sys.path.insert(0, \"../\")\n",
    "from loadcredentials import *"
   ]
  },
  {
   "cell_type": "code",
   "execution_count": null,
   "id": "565d7056-ffde-4b8b-ae85-a01965763faa",
   "metadata": {},
   "outputs": [],
   "source": [
    "dbusr, dbpassword = read_credentials_from_file(\"\",\"../db_credentials\")"
   ]
  },
  {
   "cell_type": "markdown",
   "id": "980e24e0-4336-472c-846b-8cdb16494346",
   "metadata": {},
   "source": [
    "## DB Connect to server"
   ]
  },
  {
   "cell_type": "code",
   "execution_count": null,
   "id": "e602b875-7919-415a-83eb-a4370da0ab10",
   "metadata": {},
   "outputs": [],
   "source": [
    "import pymssql\n",
    "import pandas as  pd"
   ]
  },
  {
   "cell_type": "code",
   "execution_count": null,
   "id": "70758bf9-4c75-413e-970c-2e010f5566d4",
   "metadata": {},
   "outputs": [],
   "source": [
    "conn = pymssql.connect(dbaddress, dbusr, dbpassword, dbname,as_dict=True)"
   ]
  },
  {
   "cell_type": "code",
   "execution_count": null,
   "id": "e8052ea1-213d-45f1-a702-371d48ae1f09",
   "metadata": {},
   "outputs": [],
   "source": [
    "cursor = conn.cursor()"
   ]
  },
  {
   "cell_type": "code",
   "execution_count": null,
   "id": "e7574ecd-b8c4-4ac5-8241-1176b141abe3",
   "metadata": {},
   "outputs": [],
   "source": [
    "ids = [int(i) for i in pd.read_excel('extern_ids.xlsx').iloc[:,0].values]"
   ]
  },
  {
   "cell_type": "code",
   "execution_count": null,
   "id": "4e477241-ec55-460f-8b7d-4d1a1bee3e2c",
   "metadata": {
    "scrolled": true
   },
   "outputs": [],
   "source": [
    "query = f\"\"\"\n",
    "SELECT [lSchemaId]\n",
    "      ,[lSequenceNo]\n",
    "      ,[lPrevSeqNo]\n",
    "      ,[lNextSeqNo]\n",
    "      ,[lObjId]\n",
    "      ,[strLName]\n",
    "      ,[strLNamePhon]\n",
    "      ,[lLNameType]\n",
    "      ,[strGName]\n",
    "      ,[strGNamePhon]\n",
    "      ,[lGNamePos]\n",
    "      ,[strDoB]\n",
    "      ,[lDoBPos]\n",
    "      ,[lNumber]\n",
    "      ,[strNPref]\n",
    "      ,[strCamp]\n",
    "      ,[lPersId]\n",
    "      ,[strSortValue]\n",
    "      ,[lGapSize]\n",
    "      ,[strSortValueAlph]\n",
    "      ,[strSortValuePhon]\n",
    "      ,[strPrisNo]\n",
    "      ,[lCountId]\n",
    "      ,[strNumber]\n",
    "  FROM [ousarchiv].[ousarchiv].[PersData]\n",
    "  where lObjId in (\n",
    "\"\"\" + \",\".join([str(i) for i in ids]) +\");\""
   ]
  },
  {
   "cell_type": "code",
   "execution_count": null,
   "id": "7e0116cf-c09f-42f2-9e0b-c6f664857e7d",
   "metadata": {},
   "outputs": [],
   "source": [
    "cursor.execute(query)\n",
    "records = cursor.fetchall()"
   ]
  },
  {
   "cell_type": "code",
   "execution_count": null,
   "id": "d32d0416-be5e-4375-aa45-651fbfdb47c1",
   "metadata": {},
   "outputs": [],
   "source": [
    "data = pd.DataFrame(records)"
   ]
  },
  {
   "cell_type": "code",
   "execution_count": null,
   "id": "ab617398-bb46-4632-8c73-6aedf9d9bbec",
   "metadata": {},
   "outputs": [],
   "source": [
    "data = data[['lObjId', 'strLName', 'strLNamePhon', 'lLNameType', 'strGName', 'strGNamePhon',\n",
    "       'lGNamePos', 'strDoB', 'lDoBPos', 'lNumber',\n",
    "       'lPersId',  'lCountId']]"
   ]
  },
  {
   "cell_type": "code",
   "execution_count": null,
   "id": "c5a80405-a0c6-4e5c-96a1-e226090a2b9d",
   "metadata": {},
   "outputs": [],
   "source": [
    "def deduplicate(person_df):\n",
    "    #'strLName', 'strLNamePhon', 'lLNameType', 'strGName', 'strGNamePhon', 'lGNamePos', 'strDoB', 'lDoBPos', 'lNumber','lPersId'\n",
    "    strLName = \" \".join(set(person_df['strLName'].values))\n",
    "    strLNamePhon = \" \".join(set(person_df['strLNamePhon'].values))\n",
    "    strGName = \" \".join(set(person_df['strGName'].values))\n",
    "    strGNamePhon = \" \".join(set(person_df['strGNamePhon'].values))\n",
    "    strDoB = \";\".join(list(set(person_df['strDoB'])))\n",
    "    lNumber = \";\".join(list(set(person_df['strDoB'])))\n",
    "    return [strLName, strLNamePhon, strGName, strGNamePhon, strDoB, lNumber]\n",
    "    "
   ]
  },
  {
   "cell_type": "code",
   "execution_count": null,
   "id": "0c86e3a9-2c17-414e-a4e6-fb857205769f",
   "metadata": {},
   "outputs": [],
   "source": [
    "deduplicated_data = data.groupby(['lObjId','lCountId']).apply(deduplicate)\n",
    "idx = deduplicated_data.index\n",
    "deduplicated_data = pd.DataFrame(list(deduplicated_data.values), columns=[\"strLName\", \"strLNamePhon\", \"strGName\", \"strGNamePhon\", \"strDoB\", \"lNumber\"])\n",
    "deduplicated_data.index = idx"
   ]
  },
  {
   "cell_type": "code",
   "execution_count": null,
   "id": "c9364f3b-9041-429f-836c-be4a1ddc46ac",
   "metadata": {},
   "outputs": [],
   "source": [
    "deduplicated_data"
   ]
  },
  {
   "cell_type": "code",
   "execution_count": null,
   "id": "1c40db10-658f-42aa-a95c-734aebde9629",
   "metadata": {},
   "outputs": [],
   "source": [
    "deduplicated_data.to_excel(\"ArolsenIDs.xlsx\")"
   ]
  }
 ],
 "metadata": {
  "kernelspec": {
   "display_name": "Python 3 (ipykernel)",
   "language": "python",
   "name": "python3"
  },
  "language_info": {
   "codemirror_mode": {
    "name": "ipython",
    "version": 3
   },
   "file_extension": ".py",
   "mimetype": "text/x-python",
   "name": "python",
   "nbconvert_exporter": "python",
   "pygments_lexer": "ipython3",
   "version": "3.12.3"
  }
 },
 "nbformat": 4,
 "nbformat_minor": 5
}
