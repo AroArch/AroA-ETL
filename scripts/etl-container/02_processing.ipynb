{
 "cells": [
  {
   "cell_type": "markdown",
   "id": "8ac0318f-91c2-4eb3-858d-0b9d0273d6f5",
   "metadata": {},
   "source": [
    "# Processing of unpacked ENC Data\n",
    "\n",
    "Assumed directory structure:\n",
    "```\n",
    ".\n",
    "├── 00_raw_data\n",
    "├── 01_unpacked_data\n",
    "├── 02_processed_data\n",
    "├── 03_marked_for_qa\n",
    "├── 04_qa_reviewed\n",
    "├── 05_final_for_export\n",
    "├── 01_unpacking.ipynb\n",
    "├── 02_processing.ipynb\n",
    "├── 02_standardize.ipynb\n",
    "├── 03_deduplicate.ipynb\n",
    "├── 04_postprocessing.ipynb\n",
    "└── ...\n",
    "```"
   ]
  },
  {
   "cell_type": "code",
   "execution_count": null,
   "id": "b332ec2f-39e5-46b0-b690-84e9222250f8",
   "metadata": {},
   "outputs": [],
   "source": [
    "data_file_name = \"data.csv\" # Name of raw data file without \"unpacked_\" prefix\n",
    "bucket_name = \"BUCKETNAME\""
   ]
  },
  {
   "cell_type": "markdown",
   "id": "c4d28bca-0a91-4e44-a03e-a8a52863acba",
   "metadata": {},
   "source": [
    "## imports"
   ]
  },
  {
   "cell_type": "code",
   "execution_count": null,
   "id": "e200db79-2b38-4391-bb3d-879319bae42a",
   "metadata": {},
   "outputs": [],
   "source": [
    "import pandas as pd\n",
    "from itables import show\n",
    "import re"
   ]
  },
  {
   "cell_type": "markdown",
   "id": "21a1897e-697e-491b-9db2-8af0b1bcb712",
   "metadata": {},
   "source": [
    "## fixed parameter"
   ]
  },
  {
   "cell_type": "code",
   "execution_count": null,
   "id": "2f4b5928-1e05-4607-a405-fa6d6accba28",
   "metadata": {},
   "outputs": [],
   "source": [
    "file_path = \"01_unpacked_data\"\n",
    "upload_path = \"02_processed_data\""
   ]
  },
  {
   "cell_type": "markdown",
   "id": "af6532b7-abc8-4afc-bf75-db0a05cce250",
   "metadata": {},
   "source": [
    "## Init Google I/O"
   ]
  },
  {
   "cell_type": "code",
   "execution_count": null,
   "id": "857f509f-cde4-4d91-b228-70d837f06482",
   "metadata": {},
   "outputs": [],
   "source": [
    "from google.cloud import storage\n",
    "client = storage.Client()\n",
    "bucket = client.bucket(bucket_name)"
   ]
  },
  {
   "cell_type": "markdown",
   "id": "b62bce7f-3375-4d9a-add0-62e0c58c261e",
   "metadata": {},
   "source": [
    "## Load Data"
   ]
  },
  {
   "cell_type": "code",
   "execution_count": null,
   "id": "bdc4aba4-2ed7-46d9-8ede-8e5ae270f7c7",
   "metadata": {},
   "outputs": [],
   "source": [
    "unpacked_blob_name = f\"{file_path}/unpacked_{data_file_name}\""
   ]
  },
  {
   "cell_type": "code",
   "execution_count": null,
   "id": "10a1a10d-5d54-4aa6-a82c-40bd6b70fa40",
   "metadata": {},
   "outputs": [],
   "source": [
    "bucket.blob(unpacked_blob_name).download_to_filename(unpacked_blob_name)\n",
    "print(f\"Downloaded {unpacked_blob_name}\")"
   ]
  },
  {
   "cell_type": "code",
   "execution_count": null,
   "id": "908f4d69-df63-424b-9814-8cb31a9e31fd",
   "metadata": {},
   "outputs": [],
   "source": [
    "unpacked_data = pd.read_csv(unpacked_blob_name,sep=\"|\",index_col=0)"
   ]
  },
  {
   "cell_type": "markdown",
   "id": "0e034285-0065-4f0e-8196-2dee08acd4af",
   "metadata": {},
   "source": [
    "## Pre-process Data"
   ]
  },
  {
   "cell_type": "code",
   "execution_count": null,
   "id": "52b75e45-4b05-40ea-899e-5490f989d405",
   "metadata": {},
   "outputs": [],
   "source": [
    "show(unpacked_data)"
   ]
  },
  {
   "cell_type": "markdown",
   "id": "ec4ce02e-2575-42f9-9b7c-20723361d3f6",
   "metadata": {},
   "source": [
    "### Process Names"
   ]
  },
  {
   "cell_type": "code",
   "execution_count": null,
   "id": "f7f4207b-6b8d-4a05-ad90-ed35aab93117",
   "metadata": {},
   "outputs": [],
   "source": [
    "from aroa_etl.enc.processing import process_unpacked_data"
   ]
  },
  {
   "cell_type": "code",
   "execution_count": null,
   "id": "b1043776-09ed-4017-bb35-29cb711658b0",
   "metadata": {},
   "outputs": [],
   "source": [
    "processed_data = process_unpacked_data(unpacked_data,\n",
    "                                       skip_columns=[\n",
    "                                           'updated_at',\n",
    "                                           'user_id',\n",
    "                                           'workflow_id', \n",
    "                                           'created_at', \n",
    "                                           'document_id', \n",
    "                                           'id'                                           \n",
    "                                       ],)"
   ]
  },
  {
   "cell_type": "code",
   "execution_count": null,
   "id": "028c0733-42c6-482c-8fa2-cf400cd28589",
   "metadata": {},
   "outputs": [],
   "source": [
    "show(processed_data)"
   ]
  },
  {
   "cell_type": "markdown",
   "id": "4fda710d-9447-42e3-8cd8-e2822322b56c",
   "metadata": {},
   "source": [
    "## Upload unpacked data"
   ]
  },
  {
   "cell_type": "code",
   "execution_count": null,
   "id": "f2c20d02-8f6f-4849-ab3e-19d220322034",
   "metadata": {},
   "outputs": [],
   "source": [
    "processed_file_name = f\"{upload_path}/normalised_enc_{data_file_name}\""
   ]
  },
  {
   "cell_type": "code",
   "execution_count": null,
   "id": "353d3de9-af56-409d-b092-0a179d9ccda3",
   "metadata": {},
   "outputs": [],
   "source": [
    "processed_data.to_csv(processed_file_name,sep=\"|\")"
   ]
  },
  {
   "cell_type": "code",
   "execution_count": null,
   "id": "280dec9b-5126-486f-a38e-095a6a8a7231",
   "metadata": {},
   "outputs": [],
   "source": [
    "blob = bucket.blob(processed_file_name)\n",
    "blob.upload_from_filename(processed_file_name)"
   ]
  }
 ],
 "metadata": {
  "kernelspec": {
   "display_name": "Python 3 (ipykernel)",
   "language": "python",
   "name": "python3"
  },
  "language_info": {
   "codemirror_mode": {
    "name": "ipython",
    "version": 3
   },
   "file_extension": ".py",
   "mimetype": "text/x-python",
   "name": "python",
   "nbconvert_exporter": "python",
   "pygments_lexer": "ipython3",
   "version": "3.12.3"
  }
 },
 "nbformat": 4,
 "nbformat_minor": 5
}
