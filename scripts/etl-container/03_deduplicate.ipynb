{
 "cells": [
  {
   "cell_type": "markdown",
   "id": "be0491f4-041f-465d-b716-1e07eb16323b",
   "metadata": {},
   "source": [
    "# Runs a Deduplication Routine for the ... ENC Job\n",
    "\n",
    "Assumed directory structure:\n",
    "```\n",
    ".\n",
    "├── 00_raw_data\n",
    "├── 01_unpacked_data\n",
    "├── 02_processed_data\n",
    "├── 03_marked_for_qa\n",
    "├── 04_qa_reviewed\n",
    "├── 05_final_for_export\n",
    "├── 01_unpacking.ipynb\n",
    "├── 02_processing.ipynb\n",
    "├── 02_standardize.ipynb\n",
    "├── 03_deduplicate.ipynb\n",
    "├── 04_postprocessing.ipynb\n",
    "└── ...\n",
    "```\n",
    "\n",
    "kanban link: \n",
    "..."
   ]
  },
  {
   "cell_type": "code",
   "execution_count": null,
   "id": "e8a801f2-6ebb-4f6c-91dc-a78cb97f9a82",
   "metadata": {},
   "outputs": [],
   "source": [
    "data_file_name = \"data.csv\" # Name of raw data file without \"normalised_enc_\" prefix\n",
    "bucket_name = \"enc-bucket_name\""
   ]
  },
  {
   "cell_type": "markdown",
   "id": "73f887a0-ef4d-4981-b2b3-186f84f69cff",
   "metadata": {},
   "source": [
    "## Imports"
   ]
  },
  {
   "cell_type": "code",
   "execution_count": null,
   "id": "3204cb89-dfd5-44ec-ab50-8a3a427330fc",
   "metadata": {},
   "outputs": [],
   "source": [
    "import pandas as pd\n",
    "from itables import show"
   ]
  },
  {
   "cell_type": "code",
   "execution_count": null,
   "id": "561248e1-3a1d-44eb-b95c-20fdc935cf0c",
   "metadata": {},
   "outputs": [],
   "source": [
    "from aroa_etl.enc.deduplication import ENC_Deduplicater"
   ]
  },
  {
   "cell_type": "markdown",
   "id": "c29c5ce2-7714-4df9-a182-a1e07d841a16",
   "metadata": {},
   "source": [
    "## Load Data"
   ]
  },
  {
   "cell_type": "code",
   "execution_count": null,
   "id": "2e162570-210e-43f0-b005-ce1d396cdd5f",
   "metadata": {},
   "outputs": [],
   "source": [
    "file_path = \"02_processed_data\"\n",
    "upload_path = \"03_marked_for_qa\""
   ]
  },
  {
   "cell_type": "code",
   "execution_count": null,
   "id": "96c26fa3-0d90-4ba2-afce-74eedc15169c",
   "metadata": {},
   "outputs": [],
   "source": [
    "from google.cloud import storage"
   ]
  },
  {
   "cell_type": "code",
   "execution_count": null,
   "id": "d122a2a2-aaa0-4012-9231-959b8da7a3bc",
   "metadata": {},
   "outputs": [],
   "source": [
    "storage_client = storage.Client()\n",
    "bucket = storage_client.bucket(bucket_name)"
   ]
  },
  {
   "cell_type": "code",
   "execution_count": null,
   "id": "42674a84-82a3-472d-b5c7-ed714454b311",
   "metadata": {},
   "outputs": [],
   "source": [
    "processed_blob_name = f\"{file_path}/normalised_enc_{data_file_name}\"\n",
    "blob = bucket.blob(processed_blob_name)\n",
    "# Download the file to a destination\n",
    "blob.download_to_filename(processed_blob_name)"
   ]
  },
  {
   "cell_type": "code",
   "execution_count": null,
   "id": "3c90af21-52bd-4732-9e74-0595979ab1d1",
   "metadata": {},
   "outputs": [],
   "source": [
    "processed_df = pd.read_csv(processed_blob_name,sep='|')\n",
    "show(processed_df)"
   ]
  },
  {
   "cell_type": "markdown",
   "id": "47db93ce-21a3-4b05-bef4-63c7653407fb",
   "metadata": {},
   "source": [
    "## Define the Deduplication Routine"
   ]
  },
  {
   "cell_type": "code",
   "execution_count": null,
   "id": "cc846930-2fbf-49e7-a70b-b1d61bb595ed",
   "metadata": {},
   "outputs": [],
   "source": [
    "person_cols = [ ... ]\n",
    "date_cols = [ ... ]\n",
    "other_cols = [ ... ]\n",
    "other_strict_cols = [ ... ]"
   ]
  },
  {
   "cell_type": "code",
   "execution_count": null,
   "id": "452acae9-f6c7-4d0e-b950-ef7a71cd3aa1",
   "metadata": {},
   "outputs": [],
   "source": [
    "deduplicater = ENC_Deduplicater(\n",
    "    processed_df,\n",
    "    \"subject_ids\",\n",
    "    metadata_columns=[ \"workflow_id\", .. ], # columns to be copied from \"raw enc\" rows to the new deduplication result rows \n",
    ") \n",
    "deduplicater.on_person_cols(person_cols)\n",
    "deduplicater.on_date_cols(date_cols)\n",
    "deduplicater.on_other_cols(other_cols)  \n",
    "deduplicater.on_other_strict_cols(other_strict_cols)  "
   ]
  },
  {
   "cell_type": "markdown",
   "id": "e2ce2c85-24d7-4a10-98d3-b6276b89bda9",
   "metadata": {},
   "source": [
    "## Execute Job"
   ]
  },
  {
   "cell_type": "code",
   "execution_count": null,
   "id": "3c3424f8-8a67-4e59-8bda-0db5cde3be99",
   "metadata": {},
   "outputs": [],
   "source": [
    "deduplication_result = deduplicater.run()\n",
    "show(deduplication_result)"
   ]
  },
  {
   "cell_type": "markdown",
   "id": "5d33ba2b-51c5-4b20-870f-01e5663a96e2",
   "metadata": {},
   "source": [
    "## Save and upload Result"
   ]
  },
  {
   "cell_type": "code",
   "execution_count": null,
   "id": "0d45e4d6-2b2b-45f6-8478-0c53d4a0b89e",
   "metadata": {},
   "outputs": [],
   "source": [
    "deduplicated_blob_name = f\"{upload_path}/marked_enc_{data_file_name}\""
   ]
  },
  {
   "cell_type": "code",
   "execution_count": null,
   "id": "494276db-8662-48ec-b8f8-f1c2a47165ab",
   "metadata": {},
   "outputs": [],
   "source": [
    "deduplication_result.to_pickle(deduplicated_blob_name.replace(\".csv\",\".pickle\"))\n",
    "deduplication_result.to_csv(deduplicated_blob_name,sep=\"|\")"
   ]
  },
  {
   "cell_type": "code",
   "execution_count": null,
   "id": "7a91b81d-6ca0-4950-9ff7-3a8afd7677ec",
   "metadata": {},
   "outputs": [],
   "source": [
    "storage_client = storage.Client()\n",
    "bucket = storage_client.bucket(bucket_name)"
   ]
  },
  {
   "cell_type": "code",
   "execution_count": null,
   "id": "5c9b01cc-1bee-42cf-b3c8-7a537f5a7014",
   "metadata": {},
   "outputs": [],
   "source": [
    "blob = bucket.blob(deduplicated_blob_name)\n",
    "blob.upload_from_filename(deduplicated_blob_name)"
   ]
  },
  {
   "cell_type": "markdown",
   "id": "8ec0dbfc-5b02-40a3-a6b5-27c5436d6ee9",
   "metadata": {},
   "source": [
    "## Debug Result"
   ]
  },
  {
   "cell_type": "code",
   "execution_count": null,
   "id": "70b50a61-deb6-402a-8b19-fe44a6a90d51",
   "metadata": {},
   "outputs": [],
   "source": [
    "# show(deduplicater.matcher.stats())\n",
    "deduplicater.matcher.stats_chart()"
   ]
  },
  {
   "cell_type": "code",
   "execution_count": null,
   "id": "0b50c157-c26e-4488-8918-4c2371b45d9c",
   "metadata": {},
   "outputs": [],
   "source": [
    "# In case to few columns are displayed\n",
    "# import  itables.options as opt\n",
    "# opt.maxBytes = \"10MB\""
   ]
  },
  {
   "cell_type": "code",
   "execution_count": null,
   "id": "84be64a0-4d6e-466a-8908-7cca2a82ec6b",
   "metadata": {},
   "outputs": [],
   "source": [
    "show(deduplicater.matcher.show_unmatched())"
   ]
  },
  {
   "cell_type": "code",
   "execution_count": null,
   "id": "6c4aae11-fda5-468e-934f-6a03ff2e7cc4",
   "metadata": {},
   "outputs": [],
   "source": [
    "show(deduplicater.matcher.show_matched())"
   ]
  }
 ],
 "metadata": {
  "kernelspec": {
   "display_name": "Python 3 (ipykernel)",
   "language": "python",
   "name": "python3"
  },
  "language_info": {
   "codemirror_mode": {
    "name": "ipython",
    "version": 3
   },
   "file_extension": ".py",
   "mimetype": "text/x-python",
   "name": "python",
   "nbconvert_exporter": "python",
   "pygments_lexer": "ipython3",
   "version": "3.12.3"
  }
 },
 "nbformat": 4,
 "nbformat_minor": 5
}
