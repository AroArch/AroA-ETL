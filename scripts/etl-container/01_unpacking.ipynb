{
 "cells": [
  {
   "cell_type": "markdown",
   "id": "b69317b4-2d04-4fdb-985b-3c69a51d0de0",
   "metadata": {},
   "source": [
    "# Unpacking of Raw ENC Data\n",
    "\n",
    "Assumed directory structure:\n",
    "```\n",
    ".\n",
    "├── 00_raw_data\n",
    "├── 01_unpacked_data\n",
    "├── 02_processed_data\n",
    "├── 03_marked_for_qa\n",
    "├── 04_qa_reviewed\n",
    "├── 05_final_for_export\n",
    "├── 01_unpacking.ipynb\n",
    "├── 02_processing.ipynb\n",
    "├── 02_standardize.ipynb\n",
    "├── 03_deduplicate.ipynb\n",
    "├── 04_postprocessing.ipynb\n",
    "└── ...\n",
    "```"
   ]
  },
  {
   "cell_type": "code",
   "execution_count": null,
   "id": "0c90678e-5672-4d69-b57b-a368ac366130",
   "metadata": {},
   "outputs": [],
   "source": [
    "data_file_name = \"data.csv\" # Name of raw data file without \"raw_\" prefix\n",
    "bucket_name = \"enc-bucket_name\" #TODO"
   ]
  },
  {
   "cell_type": "markdown",
   "id": "c401fce9-1fdd-4478-bd25-5bffd98466b7",
   "metadata": {},
   "source": [
    "## Imports"
   ]
  },
  {
   "cell_type": "code",
   "execution_count": null,
   "id": "83b413c3-c088-4673-9601-e96864c5df8e",
   "metadata": {},
   "outputs": [],
   "source": [
    "import pandas as pd\n",
    "from itables import show\n",
    "import re"
   ]
  },
  {
   "cell_type": "markdown",
   "id": "258ea08f-21ac-4ab8-8768-77ec9f8c74ca",
   "metadata": {},
   "source": [
    "## fixed parameters"
   ]
  },
  {
   "cell_type": "code",
   "execution_count": null,
   "id": "7a12b971-5bea-4a17-8c93-c434c61141e6",
   "metadata": {},
   "outputs": [],
   "source": [
    "file_path = \"00_raw_data\"\n",
    "upload_path = \"01_unpacked_data\""
   ]
  },
  {
   "cell_type": "markdown",
   "id": "52971565-7243-4d32-915e-5eba0b37562a",
   "metadata": {},
   "source": [
    "## Init GCloud I/O"
   ]
  },
  {
   "cell_type": "code",
   "execution_count": null,
   "id": "0f32ad48-cc8c-40d6-bf8e-dd020b3f64c4",
   "metadata": {},
   "outputs": [],
   "source": [
    "from google.cloud import storage\n",
    "client = storage.Client()\n",
    "bucket = client.bucket(bucket_name)"
   ]
  },
  {
   "cell_type": "markdown",
   "id": "205b6cef-ca0d-49af-b207-d7921c5c002c",
   "metadata": {},
   "source": [
    "## Download Raw Data"
   ]
  },
  {
   "cell_type": "code",
   "execution_count": null,
   "id": "4129d968-4a15-472b-a3ff-77f9d56a7841",
   "metadata": {},
   "outputs": [],
   "source": [
    "raw_blob_name = f\"{file_path}/raw_{data_file_name}\""
   ]
  },
  {
   "cell_type": "code",
   "execution_count": null,
   "id": "1a4bc955-2b89-4d9e-861e-84df58bf6125",
   "metadata": {},
   "outputs": [],
   "source": [
    "bucket.blob(raw_blob_name).download_to_filename(raw_blob_name)\n",
    "print(f\"Downloaded {raw_blob_name}\")"
   ]
  },
  {
   "cell_type": "code",
   "execution_count": null,
   "id": "7c19b839-5b96-45a7-bd86-fcfe4dfbc37e",
   "metadata": {},
   "outputs": [],
   "source": [
    "raw_data = pd.read_csv(raw_blob_name)"
   ]
  },
  {
   "cell_type": "markdown",
   "id": "7650f5c4-dc24-4be8-9a45-d1bb8f56fcd8",
   "metadata": {},
   "source": [
    "## Unpack"
   ]
  },
  {
   "cell_type": "code",
   "execution_count": null,
   "id": "d9076776-ad9a-4f92-ad3f-367f76d8eb03",
   "metadata": {},
   "outputs": [],
   "source": [
    "from aroa_etl.enc.unpacking import unpack"
   ]
  },
  {
   "cell_type": "code",
   "execution_count": null,
   "id": "132f58d5-7028-4c72-a8ca-508d504b5c9e",
   "metadata": {},
   "outputs": [],
   "source": [
    "show(raw_data)"
   ]
  },
  {
   "cell_type": "code",
   "execution_count": null,
   "id": "075572d7-6619-4996-80b5-f655318ae1f7",
   "metadata": {},
   "outputs": [],
   "source": [
    "unpacked_data = unpack(raw_data,\"json_data\", additional_splits_on=lambda col: re.search(r\"(category)\",col), split_re=r\"[\\|;,\\s]\")"
   ]
  },
  {
   "cell_type": "code",
   "execution_count": null,
   "id": "d1467a1c-29db-4133-97a3-0b1165eb744f",
   "metadata": {},
   "outputs": [],
   "source": [
    "show(unpacked_data)"
   ]
  },
  {
   "cell_type": "markdown",
   "id": "5fe07db1-c15f-4142-9320-e9e65c120615",
   "metadata": {},
   "source": [
    "## Upload unpacked data"
   ]
  },
  {
   "cell_type": "code",
   "execution_count": null,
   "id": "d56cbd7c-03c6-4f82-9d01-b55eafe834c3",
   "metadata": {},
   "outputs": [],
   "source": [
    "unpacked_file_name = f\"{upload_path}/unpacked_{data_file_name}\""
   ]
  },
  {
   "cell_type": "code",
   "execution_count": null,
   "id": "29e3f776-c818-4d3f-a5f1-cff979ad4575",
   "metadata": {},
   "outputs": [],
   "source": [
    "unpacked_data.to_csv(unpacked_file_name,sep=\"|\")"
   ]
  },
  {
   "cell_type": "code",
   "execution_count": null,
   "id": "e4d1e3ce-4b3c-4197-beac-98d4d2724791",
   "metadata": {},
   "outputs": [],
   "source": [
    "blob = bucket.blob(unpacked_file_name)\n",
    "blob.upload_from_filename(unpacked_file_name)"
   ]
  }
 ],
 "metadata": {
  "kernelspec": {
   "display_name": "Python 3 (ipykernel)",
   "language": "python",
   "name": "python3"
  },
  "language_info": {
   "codemirror_mode": {
    "name": "ipython",
    "version": 3
   },
   "file_extension": ".py",
   "mimetype": "text/x-python",
   "name": "python",
   "nbconvert_exporter": "python",
   "pygments_lexer": "ipython3",
   "version": "3.12.3"
  }
 },
 "nbformat": 4,
 "nbformat_minor": 5
}
