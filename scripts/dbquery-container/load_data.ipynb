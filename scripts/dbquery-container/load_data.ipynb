{
 "cells": [
  {
   "cell_type": "code",
   "execution_count": null,
   "id": "f9d80137-d5ee-4a1c-a1a6-cc83e4bda76d",
   "metadata": {},
   "outputs": [],
   "source": [
    "SQL_QUERY = \"\""
   ]
  },
  {
   "cell_type": "markdown",
   "id": "e85475c5-fd80-445a-818b-11391545d110",
   "metadata": {},
   "source": [
    "## Load credentials"
   ]
  },
  {
   "cell_type": "code",
   "execution_count": null,
   "id": "3a7cf041-89f0-487c-804d-eda422e86afe",
   "metadata": {},
   "outputs": [],
   "source": [
    "import os\n",
    "import sys\n",
    "sys.path.insert(0, \"../\")\n",
    "from loadcredentials import *"
   ]
  },
  {
   "cell_type": "code",
   "execution_count": null,
   "id": "ed251682-e707-4198-af22-ee3b67fa93da",
   "metadata": {},
   "outputs": [],
   "source": [
    "dbusr, dbpassword = read_credentials_from_file(\"\",\"../db_credentials\")"
   ]
  },
  {
   "cell_type": "markdown",
   "id": "6952c3dd-42e1-43c2-bb58-3da639b8582a",
   "metadata": {},
   "source": [
    "## DB Connect to server"
   ]
  },
  {
   "cell_type": "code",
   "execution_count": null,
   "id": "276c229e-803f-4fb5-b5c6-4999304b0c91",
   "metadata": {},
   "outputs": [],
   "source": [
    "import pymssql"
   ]
  },
  {
   "cell_type": "code",
   "execution_count": null,
   "id": "176bd8b0-0a97-4b99-b2da-e4e61af99b32",
   "metadata": {},
   "outputs": [],
   "source": [
    "import pandas as  pd"
   ]
  },
  {
   "cell_type": "code",
   "execution_count": null,
   "id": "2f37471f-5032-4224-b6bb-85fdcb178b82",
   "metadata": {},
   "outputs": [],
   "source": [
    "conn = pymssql.connect(dbaddress, dbusr, dbpassword, dbname,as_dict=True)"
   ]
  },
  {
   "cell_type": "code",
   "execution_count": null,
   "id": "d3b5f641-05fa-4072-b715-3a7078fa2572",
   "metadata": {},
   "outputs": [],
   "source": [
    "cursor = conn.cursor()"
   ]
  },
  {
   "cell_type": "code",
   "execution_count": null,
   "id": "2935859d-7ecf-4d2e-84ca-2ce8abcceaeb",
   "metadata": {},
   "outputs": [],
   "source": [
    "import pickle"
   ]
  },
  {
   "cell_type": "code",
   "execution_count": null,
   "id": "7813d910-7261-4613-b229-8ed6db23865b",
   "metadata": {},
   "outputs": [],
   "source": [
    "cursor.execute(SQL_QUERY)\n",
    "records = cursor.fetchall()\n",
    "data = pd.DataFrame(records)"
   ]
  },
  {
   "cell_type": "code",
   "execution_count": null,
   "id": "ac31f191-41db-4325-83af-e679b4e6010c",
   "metadata": {},
   "outputs": [],
   "source": [
    "data.to_csv(\"data.csv\",index=False,sep='|')"
   ]
  },
  {
   "cell_type": "code",
   "execution_count": null,
   "id": "f86b081e-9372-4a28-ad4d-7be6e133e335",
   "metadata": {},
   "outputs": [],
   "source": [
    "cursor.execute(SQL_QUERY)\n",
    "i = 1\n",
    "while True:\n",
    "    # Fetch batch_size rows at a time\n",
    "    batch = cursor.fetchmany(1000000*i)\n",
    "    i = i+1\n",
    "    # Break if no more rows\n",
    "    if not batch:\n",
    "        break\n",
    "                \n",
    "    # Process the batch\n",
    "    with open(f\"td_batch{i}.pkl\",\"wb\") as f:\n",
    "        pickle.dump(batch,f)"
   ]
  },
  {
   "cell_type": "code",
   "execution_count": null,
   "id": "ec262b9a-0e4c-42df-996c-fdd3b70200cd",
   "metadata": {},
   "outputs": [],
   "source": [
    "data.to_pickle(\"data.pkl\")"
   ]
  },
  {
   "cell_type": "markdown",
   "id": "d28d9b05-45c8-4447-871a-81b568adc41c",
   "metadata": {},
   "source": [
    "Powershell variant\n",
    "```\n",
    "$gettable = \"\n",
    "SELECT Query ...\n",
    "\"\n",
    "\n",
    "Invoke-Sqlcmd -query $gettable | Export-Csv -Path C:\\Path\\To\\File.csv -NoTypeInformation -Delimiter '|' -Encoding UTF8\n",
    "```"
   ]
  }
 ],
 "metadata": {
  "kernelspec": {
   "display_name": "Python 3 (ipykernel)",
   "language": "python",
   "name": "python3"
  },
  "language_info": {
   "codemirror_mode": {
    "name": "ipython",
    "version": 3
   },
   "file_extension": ".py",
   "mimetype": "text/x-python",
   "name": "python",
   "nbconvert_exporter": "python",
   "pygments_lexer": "ipython3",
   "version": "3.12.3"
  }
 },
 "nbformat": 4,
 "nbformat_minor": 5
}
